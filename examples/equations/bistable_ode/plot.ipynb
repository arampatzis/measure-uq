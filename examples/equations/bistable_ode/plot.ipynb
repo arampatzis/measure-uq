{
 "cells": [
  {
   "cell_type": "markdown",
   "id": "d8ade5d9",
   "metadata": {},
   "source": [
    "# Bistable ODE Simulation\n",
    "This notebook simulates the bistable ODE:\n",
    "\n",
    "$$\n",
    "\\frac{dy}{dt} = -r(y - 1) (2 - y) (y - 3) \\\\\n",
    "y(0) = y_0\n",
    "$$\n",
    "where $r\\sim \\mathcal{U}(0.8, 1.2)$ and $y_0 \\sim \\mathcal{U}(0,4)$.\n"
   ]
  },
  {
   "cell_type": "code",
   "execution_count": null,
   "id": "ef02afbe",
   "metadata": {},
   "outputs": [],
   "source": [
    "%matplotlib widget\n",
    "\n",
    "import matplotlib as mpl\n",
    "import matplotlib.pyplot as plt\n",
    "import numpy as np\n",
    "from IPython.display import HTML\n",
    "from matplotlib import animation\n",
    "from torch import tensor\n",
    "\n",
    "from examples.equations.bistable_ode.ode import reference_solution\n",
    "from measure_uq.models import PINN, PINN_PCE\n",
    "from measure_uq.pde import PDE\n",
    "from measure_uq.trainers.trainer import Trainer\n",
    "from measure_uq.utilities import to_numpy\n",
    "\n",
    "mpl.rcParams.update(\n",
    "    {\n",
    "        \"text.usetex\": False,\n",
    "        \"font.family\": \"STIX\",  # or 'Times New Roman' if available\n",
    "        \"mathtext.fontset\": \"stix\",\n",
    "        \"axes.labelsize\": 16,\n",
    "        \"font.size\": 14,\n",
    "        \"legend.fontsize\": 14,\n",
    "        \"xtick.labelsize\": 12,\n",
    "        \"ytick.labelsize\": 12,\n",
    "    }\n",
    ")\n",
    "\n",
    "if 0:\n",
    "    model_type = PINN_PCE\n",
    "    model_path = \"data/best_model_pinn_pce.pickle\"\n",
    "    pde_path = \"data/pde_pinn_pce.pickle\"\n",
    "    trainer_path = \"data/trainer_pinn_pce.pickle\"\n",
    "else:\n",
    "    model_type = PINN\n",
    "    model_path = \"data/best_model_pinn.pickle\"\n",
    "    pde_path = \"data/pde_pinn.pickle\"\n",
    "    trainer_path = \"data/trainer_pinn.pickle\"\n",
    "\n",
    "\n",
    "model = model_type.load(model_path)\n",
    "pde = PDE.load(pde_path)\n",
    "trainer = Trainer.load(trainer_path)\n",
    "\n",
    "T = pde.conditions_train.conditions[0].T\n",
    "\n",
    "t = tensor(np.linspace(0, T, 101)[:, None]).float()\n",
    "\n",
    "pde.parameters_test.N = 10000\n",
    "pde.parameters_test.sample_values()\n",
    "parameters = pde.parameters_test.values.detach().cpu()\n",
    "\n",
    "Nt = t.shape[0]\n",
    "Np = parameters.shape[0]"
   ]
  },
  {
   "cell_type": "markdown",
   "id": "2d87656e",
   "metadata": {},
   "source": [
    "### Evaluate the solution of the PINN for all the parameters"
   ]
  },
  {
   "cell_type": "code",
   "execution_count": null,
   "id": "b4e9c6ea",
   "metadata": {},
   "outputs": [],
   "source": [
    "_, y_tmp = model.forward(t, parameters)\n",
    "\n",
    "y = np.array(\n",
    "    [y_tmp[k::Np, :].detach().cpu().numpy() for k in range(Np)],\n",
    ")  # shape: (samples, Nt, 1)\n",
    "\n",
    "y = y.squeeze(-1)\n",
    "\n",
    "mean_y = y.mean(axis=0)\n",
    "std_y = y.std(axis=0)"
   ]
  },
  {
   "cell_type": "markdown",
   "id": "c4ad2b0b",
   "metadata": {},
   "source": [
    "### Evaluate the reference solution for all the parameters\n"
   ]
  },
  {
   "cell_type": "code",
   "execution_count": null,
   "id": "f8a64360",
   "metadata": {},
   "outputs": [],
   "source": [
    "tt = to_numpy(t).squeeze()\n",
    "\n",
    "s_tmp = [reference_solution(tt, to_numpy(p)) for p in parameters]\n",
    "\n",
    "solutions = np.stack(s_tmp, axis=0)  # shape: (samples, Nt)\n",
    "mean_solution = solutions.mean(axis=0)\n",
    "std_solution = solutions.std(axis=0)"
   ]
  },
  {
   "cell_type": "markdown",
   "id": "9af86cc6",
   "metadata": {},
   "source": [
    "### Plot the PINN and the reference solution"
   ]
  },
  {
   "cell_type": "code",
   "execution_count": null,
   "id": "0f1573da",
   "metadata": {},
   "outputs": [],
   "source": [
    "plt.close(\"all\")\n",
    "\n",
    "fig, ax = plt.subplots(1, 1, figsize=(10, 5))\n",
    "\n",
    "ax.plot(t, mean_solution, label=\"MC mean\")\n",
    "ax.plot(t, mean_solution - std_solution, color=\"black\", label=\"MC mean - std\")\n",
    "ax.plot(t, mean_solution + std_solution, color=\"black\", label=\"MC mean + std\")\n",
    "\n",
    "ax.plot(t, mean_y, \"--\", label=\"PINN mean\")\n",
    "ax.fill_between(\n",
    "    t.squeeze(),\n",
    "    mean_y - std_y,\n",
    "    mean_y + std_y,\n",
    "    alpha=0.3,\n",
    "    label=\"Standard deviation of PINN\",\n",
    ")\n",
    "\n",
    "ax.set_xlabel(\"time\")\n",
    "ax.set_ylabel(\"y\")\n",
    "\n",
    "ax.legend()\n",
    "ax.grid()\n",
    "\n",
    "fig.savefig(\"bistable_ode_mean_and_std.pdf\", bbox_inches=\"tight\", dpi=300)"
   ]
  },
  {
   "cell_type": "code",
   "execution_count": null,
   "id": "fca47956",
   "metadata": {},
   "outputs": [],
   "source": [
    "plt.close(\"all\")\n",
    "\n",
    "t = to_numpy(t).squeeze()\n",
    "bins = np.linspace(0, 4, 100)\n",
    "\n",
    "fig, ax = plt.subplots(figsize=(8, 4))\n",
    "\n",
    "\n",
    "def update(frame):\n",
    "    \"\"\"Update the plot for each frame.\"\"\"\n",
    "    ax.clear()\n",
    "\n",
    "    ax.hist(\n",
    "        solutions[:, frame],\n",
    "        bins=bins,\n",
    "        density=True,\n",
    "        alpha=0.6,\n",
    "        color=\"skyblue\",\n",
    "        label=\"Reference\",\n",
    "    )\n",
    "    ax.hist(y[:, frame], bins=bins, density=True, alpha=0.6, color=\"red\", label=\"PINN\")\n",
    "\n",
    "    ax.set_xlim(0, 4)\n",
    "    ax.set_ylim(0, 2.0)\n",
    "    ax.set_ylabel(\"Frequency\")\n",
    "    ax.set_xlabel(\"u\")\n",
    "    ax.set_title(f\"t = {t[frame]:.2f}\")\n",
    "    ax.legend()\n",
    "\n",
    "    fig.tight_layout()  # ensures labels fit in the frame\n",
    "\n",
    "\n",
    "anime = animation.FuncAnimation(fig, update, frames=len(t), interval=100)\n",
    "plt.close()\n",
    "\n",
    "HTML(anime.to_html5_video())"
   ]
  },
  {
   "cell_type": "code",
   "execution_count": null,
   "id": "ea7970f6",
   "metadata": {},
   "outputs": [],
   "source": [
    "# Save the video with good quality\n",
    "path = f\"bistable_ode_{model_type.__name__.lower()}.mp4\"\n",
    "anime.save(path, dpi=200, bitrate=3000, fps=5)"
   ]
  },
  {
   "cell_type": "markdown",
   "id": "0f9afc89",
   "metadata": {},
   "source": [
    "### PLot Wasserstein distance of the histograms"
   ]
  },
  {
   "cell_type": "code",
   "execution_count": null,
   "id": "64c38bbd",
   "metadata": {},
   "outputs": [],
   "source": [
    "plt.close(\"all\")\n",
    "\n",
    "# Example: MC vs PINN solutions (shape: [n_samples, n_times])\n",
    "# Replace with your actual data arrays\n",
    "# solutions: (N_samples, T)\n",
    "# y: (N_samples, T)\n",
    "assert solutions.shape == y.shape\n",
    "\n",
    "n_times = solutions.shape[1]\n",
    "wasserstein_distances = []\n",
    "\n",
    "for i in range(n_times):\n",
    "    data1 = np.sort(solutions[:, i])\n",
    "    data2 = np.sort(y[:, i])\n",
    "\n",
    "    # Match sizes\n",
    "    n = min(len(data1), len(data2))\n",
    "    d = np.mean(np.abs(data1[:n] - data2[:n]))\n",
    "    wasserstein_distances.append(d)\n",
    "\n",
    "# Plot Wasserstein distance as function of time\n",
    "fig, ax = plt.subplots(figsize=(8, 4))\n",
    "ax.plot(tt, wasserstein_distances, linewidth=3, color=\"black\")\n",
    "ax.set_xlabel(\"t\")\n",
    "ax.set_ylabel(\"Wasserstein distance\")\n",
    "ax.grid(True)\n",
    "fig.tight_layout()\n",
    "fig.savefig(\"bistable_ode_wasserstein_distance.pdf\", bbox_inches=\"tight\", dpi=300)\n",
    "\n",
    "plt.show()"
   ]
  },
  {
   "cell_type": "markdown",
   "id": "b68c3913",
   "metadata": {},
   "source": [
    "### Plot the histogram at a time"
   ]
  },
  {
   "cell_type": "code",
   "execution_count": null,
   "id": "c11bc599",
   "metadata": {},
   "outputs": [],
   "source": [
    "plt.close(\"all\")\n",
    "\n",
    "t = to_numpy(t).squeeze()\n",
    "bins = np.linspace(0, 4, 100)\n",
    "\n",
    "fig, ax = plt.subplots(figsize=(8, 4))\n",
    "\n",
    "frame = 25\n",
    "\n",
    "ax.hist(\n",
    "    solutions[:, frame],\n",
    "    bins=bins,\n",
    "    density=True,\n",
    "    alpha=0.6,\n",
    "    color=\"skyblue\",\n",
    "    label=\"Reference\",\n",
    ")\n",
    "ax.hist(y[:, frame], bins=bins, density=True, alpha=0.6, color=\"red\", label=\"PINN\")\n",
    "\n",
    "ax.set_xlim(0, 4)\n",
    "ax.set_ylim(0, 2.0)\n",
    "ax.set_ylabel(\"Frequency\")\n",
    "ax.set_xlabel(\"u\")\n",
    "ax.set_title(f\"t = {t[frame]:.2f}\")\n",
    "ax.legend()\n",
    "\n",
    "ax.set_xlim(0.9, 3.1)\n",
    "\n",
    "fig.tight_layout()\n",
    "\n",
    "fig.savefig(\"bistable_ode_histograms.pdf\", bbox_inches=\"tight\", dpi=300)"
   ]
  },
  {
   "cell_type": "markdown",
   "id": "62facd15",
   "metadata": {},
   "source": [
    "### Plot the train and test loss"
   ]
  },
  {
   "cell_type": "code",
   "execution_count": null,
   "id": "f5319ed4",
   "metadata": {},
   "outputs": [],
   "source": [
    "fig, ax = plt.subplots(figsize=(8, 4))\n",
    "\n",
    "x1 = trainer.trainer_data.losses_train.i\n",
    "y1 = trainer.trainer_data.losses_train.v\n",
    "ax.plot(x1, y1, label=\"Training loss\", linewidth=3)\n",
    "\n",
    "x2 = trainer.trainer_data.losses_test.i\n",
    "y2 = trainer.trainer_data.losses_test.v\n",
    "ax.plot(x2, y2, label=\"Testing loss\", linewidth=3)\n",
    "\n",
    "ax.set_yscale(\"log\")\n",
    "ax.grid(True)\n",
    "\n",
    "\n",
    "ax.set_xlabel(\"Iteration\")\n",
    "ax.set_ylabel(\"Loss\")\n",
    "ax.legend()\n",
    "\n",
    "fig.tight_layout()\n",
    "\n",
    "fig.savefig(\"bistable_ode_loss.pdf\", bbox_inches=\"tight\", dpi=300)"
   ]
  }
 ],
 "metadata": {
  "kernelspec": {
   "display_name": ".venv",
   "language": "python",
   "name": "python3"
  },
  "language_info": {
   "codemirror_mode": {
    "name": "ipython",
    "version": 3
   },
   "file_extension": ".py",
   "mimetype": "text/x-python",
   "name": "python",
   "nbconvert_exporter": "python",
   "pygments_lexer": "ipython3",
   "version": "3.11.11+"
  }
 },
 "nbformat": 4,
 "nbformat_minor": 5
}
